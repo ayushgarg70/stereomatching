{
 "cells": [
  {
   "cell_type": "markdown",
   "metadata": {
    "id": "4v_ELC1kcTse"
   },
   "source": [
    "##Dependencies"
   ]
  },
  {
   "cell_type": "code",
   "execution_count": null,
   "metadata": {
    "id": "6-Dde9gjJDJK"
   },
   "outputs": [],
   "source": [
    "!pip install torchvision==0.14\n",
    "!pip install matplotlib\n",
    "!pip install \"squirrel-core[torch]\"\n",
    "!pip install \"squirrel-datasets-core[torchvision]\"\n",
    "\n",
    "!pip install transformers"
   ]
  },
  {
   "cell_type": "markdown",
   "metadata": {
    "id": "INh6q_EFccHS"
   },
   "source": [
    "I used Colab, so I saved the datasets to my Google drive."
   ]
  },
  {
   "cell_type": "code",
   "execution_count": null,
   "metadata": {
    "colab": {
     "base_uri": "https://localhost:8080/"
    },
    "id": "x6cCd47CcGhg",
    "outputId": "491867bc-5c0a-405a-af3c-20d4a1795568"
   },
   "outputs": [
    {
     "name": "stdout",
     "output_type": "stream",
     "text": [
      "Mounted at /content/drive\n"
     ]
    }
   ],
   "source": [
    "from google.colab import drive\n",
    "drive.mount('/content/drive')"
   ]
  },
  {
   "cell_type": "markdown",
   "metadata": {
    "id": "SBxM95Qlcnd3"
   },
   "source": [
    "Major imports used in the given sample .ipynb."
   ]
  },
  {
   "cell_type": "code",
   "execution_count": null,
   "metadata": {
    "id": "h2b1C0wDcm5j"
   },
   "outputs": [],
   "source": [
    "import torch\n",
    "from torch import nn\n",
    "import torch.utils.data as tud\n",
    "from torch.utils.data._utils.collate import default_collate as torch_default_collate\n",
    "\n",
    "import torchvision.transforms as tr\n",
    "\n",
    "import matplotlib.pyplot as plt\n",
    "\n",
    "from squirrel.driver import MessagepackDriver\n",
    "from squirrel_datasets_core.driver import TorchvisionDriver"
   ]
  },
  {
   "cell_type": "markdown",
   "metadata": {
    "id": "DdpsumcxdHvo"
   },
   "source": [
    "##Dataset preparation\n",
    "\n",
    "The evaluation and training datasets are not preprocessed here as they will be scaled and normalized later by a 'transformers' library function. "
   ]
  },
  {
   "cell_type": "code",
   "execution_count": null,
   "metadata": {
    "id": "8uJ40-H-b3gs"
   },
   "outputs": [],
   "source": [
    "def get_dataloader_eval(batch_size: int) -> tud.DataLoader:\n",
    "    \"\"\"Dataloader to load evaluation/test dataset.\"\"\"\n",
    "\n",
    "    url = \"/content/drive/My Drive/mmchallenge/squirrel_middlebury_patched\"  # path to unzipped data folder containing *.gz files\n",
    "    # Get iterator from driver\n",
    "    driver = MessagepackDriver(url)\n",
    "    it = driver.get_iter()\n",
    "\n",
    "    #############################\n",
    "    ## YOUR PREPROCESSING HERE ##\n",
    "    preprocess = tr.Compose([\n",
    "        lambda x: x\n",
    "    ])\n",
    "    #############################\n",
    "\n",
    "    dataset = (\n",
    "        it\n",
    "        .map(preprocess)\n",
    "        .batched(batch_size, torch_default_collate, drop_last_if_not_full=False)\n",
    "        .to_torch_iterable()\n",
    "    )\n",
    "    return tud.DataLoader(dataset, shuffle=None, batch_size=None)\n",
    "  \n",
    "def get_dataloader_train(batch_size: int, shuffe_size: int = 100, num_workers: int = 0) -> tud.DataLoader:\n",
    "    \"\"\"Dataloader to Sintel training data.\"\"\"\n",
    "    # Path to folder containing the `Sintel` folder previously donwloaded.\n",
    "    url = \"/content/drive/My Drive/mmchallenge/\"\n",
    "\n",
    "    driver = TorchvisionDriver(\"SintelStereo\", url=url)\n",
    "    it = driver.get_iter()\n",
    "\n",
    "    # Ayush: The PIL images are converted to PyTorch tensors here.\n",
    "    preprocess = tr.Compose([\n",
    "        lambda x: (tr.ToTensor()(x[0]), tr.ToTensor()(x[1]))\n",
    "    ])\n",
    "\n",
    "    dataset = (\n",
    "        it\n",
    "        .shuffle(shuffe_size)\n",
    "        # .split_by_worker_pytorch()\n",
    "        #############################################################\n",
    "        ### YOUR PREPROCESSING, COLLATING, AUGMENTATION, ETC. HERE ##\n",
    "        #############################################################\n",
    "        .map(preprocess)\n",
    "        .batched(batch_size, torch_default_collate, drop_last_if_not_full=True)\n",
    "        .to_torch_iterable()\n",
    "    )\n",
    "    return tud.DataLoader(dataset, shuffle=None, batch_size=None, num_workers=num_workers)"
   ]
  },
  {
   "cell_type": "markdown",
   "metadata": {
    "id": "59QupnuVdqWE"
   },
   "source": [
    "## Extra imports"
   ]
  },
  {
   "cell_type": "code",
   "execution_count": null,
   "metadata": {
    "id": "tLhLnXvRdXGO"
   },
   "outputs": [],
   "source": [
    "from typing import Dict, List, Optional, Set, Tuple, Union\n",
    "\n",
    "# Pretrained ViT models\n",
    "from transformers import ViTFeatureExtractor, ViTModel, ViTConfig, ViTPreTrainedModel\n",
    "from transformers.modeling_outputs import BaseModelOutputWithPooling, BaseModelOutput\n",
    "\n",
    "# Similarity metric\n",
    "from torch.nn import CosineSimilarity\n",
    "cos = CosineSimilarity(dim=1, eps=1e-6)"
   ]
  },
  {
   "cell_type": "markdown",
   "metadata": {
    "id": "nndW0DxgeAB3"
   },
   "source": [
    "##Feature extraction \n",
    "The raw images are scaled (divided by 255.) and normalized (mean=0.5 is subtracted and std. deviation=0.5 is divided), using this feature extractor function for ViT from the 'transformers' library."
   ]
  },
  {
   "cell_type": "code",
   "execution_count": null,
   "metadata": {
    "colab": {
     "base_uri": "https://localhost:8080/",
     "height": 49,
     "referenced_widgets": [
      "a43d6fb33b66425693d109f51d2a34d6",
      "3d1389ae692144cf9677dfe3c94923a6",
      "a33193e32cc64024b470d75bfc2f18d1",
      "b5b478809d3f4cfb842d43066e0534b7",
      "91940544ffda4120a542ca521de995f3",
      "ac23e1a03abc40cab8d1fadc8bc69b04",
      "b4f01c57075443d1b81cc2afd7259a83",
      "ae958594600d4374baaed9977e7f8b17",
      "32a25e4af2874dad83cb3dbf40a2a138",
      "29f17f17b4064e3aae9cac0a51d4475e",
      "740bb0e99b6145fd8d3b00c2dc7fdbda"
     ]
    },
    "id": "tIwvJnfvd8u4",
    "outputId": "61b4cf36-9d98-468f-ac30-ac0943cad654"
   },
   "outputs": [
    {
     "data": {
      "application/vnd.jupyter.widget-view+json": {
       "model_id": "a43d6fb33b66425693d109f51d2a34d6",
       "version_major": 2,
       "version_minor": 0
      },
      "text/plain": [
       "Downloading:   0%|          | 0.00/160 [00:00<?, ?B/s]"
      ]
     },
     "metadata": {},
     "output_type": "display_data"
    }
   ],
   "source": [
    "feature_extractor = ViTFeatureExtractor.from_pretrained('google/vit-base-patch16-224')"
   ]
  },
  {
   "cell_type": "markdown",
   "metadata": {
    "id": "6SxHq_hFeXJp"
   },
   "source": [
    "## Evaluation logic\n",
    "This function takes the evaluation dataset, batch size and the model, and returns the matching-accuracy and confusion matrix for visualization"
   ]
  },
  {
   "cell_type": "code",
   "execution_count": null,
   "metadata": {
    "id": "CHMwvdYjdl0R"
   },
   "outputs": [],
   "source": [
    "def get_eval_performance(dl_eval, batch_size, model):\n",
    "    model.eval()\n",
    "    left_embeddings = torch.zeros(306, 768)\n",
    "    right_embeddings = torch.zeros(306, 768)\n",
    "\n",
    "    ## Calculate embeddings for all 306 images in the dataset and store them.\n",
    "    for i, d in enumerate(dl_eval):\n",
    "        bs = d[\"img_l\"].shape[0] #The last batch may not be of length=batch_size\n",
    "        \n",
    "        img_l = torch.unbind(d[\"img_l\"]) # B, 3, 360, 360\n",
    "        inputs_l = feature_extractor(images=img_l, return_tensors=\"pt\")\n",
    "        inputs_l = inputs_l[\"pixel_values\"].cuda()\n",
    "        outputs_l = model(inputs_l)\n",
    "        \n",
    "        img_r = torch.unbind(d[\"img_r\"])  # B, 3, 360, 360\n",
    "        inputs_r = feature_extractor(images=img_r, return_tensors=\"pt\")\n",
    "        inputs_r = inputs_r[\"pixel_values\"].cuda()\n",
    "        outputs_r = model(inputs_r)\n",
    "\n",
    "        #Pooler output contains the last hidden state for the CLS token (first token)\n",
    "        left_embeddings[i * batch_size:i * batch_size + bs, :] = outputs_l.pooler_output.data.cpu()\n",
    "        right_embeddings[i * batch_size:i * batch_size + bs, :] = outputs_r.pooler_output.data.cpu()\n",
    "\n",
    "    ## Calculate the confusion matrix entries using cosine similarity metric\n",
    "    match_matrix = torch.zeros(306, 306)\n",
    "    accuracy = []\n",
    "    for i in range(306):\n",
    "        for j in range(306):\n",
    "            match_matrix[i][j] = cos(left_embeddings[i:i+1], right_embeddings[j:j+1])\n",
    "        match = torch.argmax(match_matrix[i:i+1], dim=1)\n",
    "        if match == i:\n",
    "            accuracy.append(1.)  #Correct match\n",
    "        else:\n",
    "            accuracy.append(0.)  #Incorrect match\n",
    "\n",
    "    return torch.tensor(accuracy), match_matrix"
   ]
  },
  {
   "cell_type": "markdown",
   "metadata": {
    "id": "cLCdX727emQc"
   },
   "source": [
    "##Baseline model\n",
    "\n",
    "The baseline model is a pretrained ViT model with a patch size of 16x16 and image size of 224x224. Thus, there are 14x14 = 196 + 1(CLS) tokens in every sample"
   ]
  },
  {
   "cell_type": "code",
   "execution_count": null,
   "metadata": {
    "colab": {
     "base_uri": "https://localhost:8080/",
     "height": 205,
     "referenced_widgets": [
      "947c551cbfd644aa8c26a4fd4fb08957",
      "1ed74623c5884664a39d5257cb4fe9bb",
      "4be695b8477e480b81e029393113d73e",
      "1064566415b04953970d5dbc50eead4b",
      "8fa88cd01ad94b9fa1be9a0966bc2dfc",
      "8277212eae164bff8a5c671ed78480fc",
      "0d769b4b85624f5d8cea0449e6832016",
      "a82dfa91994d46bb8779a02a6929e96c",
      "2b2b4e48fed242b9a15e142da393e8ca",
      "fcf0aaa3dc4e4b68a55bdc378d79b7e2",
      "927ca28e9f6e4ff8b8afa19c41a08622",
      "c32e8f1272494945ae441c4dde68e4f4",
      "2eaa3efaeb0e48cd858ad78889251c4c",
      "f3292c76ec0447c9890614803d145770",
      "14683b35d11045d7aa76ab7703c6f88d",
      "d0712373362b41f588f3642036f38621",
      "b6c487c0829243e3a9a97cd8d9063bd5",
      "49524c39b674455e8711563a562b5bfc",
      "1eea982ecbcf46cd9f7c7b117d53aa37",
      "aae5bf9fed494c0ab2b55337787ad2d9",
      "509fa93d427f41cd8d8ea89f11c42550",
      "4d245aaa35504b97a6c6ecbfa4e4a7fa"
     ]
    },
    "id": "Apy0XDKZlzcD",
    "outputId": "9de8e09d-351f-4dee-a65f-bbfa279fdf28"
   },
   "outputs": [
    {
     "data": {
      "application/vnd.jupyter.widget-view+json": {
       "model_id": "947c551cbfd644aa8c26a4fd4fb08957",
       "version_major": 2,
       "version_minor": 0
      },
      "text/plain": [
       "Downloading:   0%|          | 0.00/69.7k [00:00<?, ?B/s]"
      ]
     },
     "metadata": {},
     "output_type": "display_data"
    },
    {
     "data": {
      "application/vnd.jupyter.widget-view+json": {
       "model_id": "c32e8f1272494945ae441c4dde68e4f4",
       "version_major": 2,
       "version_minor": 0
      },
      "text/plain": [
       "Downloading:   0%|          | 0.00/346M [00:00<?, ?B/s]"
      ]
     },
     "metadata": {},
     "output_type": "display_data"
    },
    {
     "name": "stderr",
     "output_type": "stream",
     "text": [
      "Some weights of the model checkpoint at google/vit-base-patch16-224 were not used when initializing ViTModel: ['classifier.weight', 'classifier.bias']\n",
      "- This IS expected if you are initializing ViTModel from the checkpoint of a model trained on another task or with another architecture (e.g. initializing a BertForSequenceClassification model from a BertForPreTraining model).\n",
      "- This IS NOT expected if you are initializing ViTModel from the checkpoint of a model that you expect to be exactly identical (initializing a BertForSequenceClassification model from a BertForSequenceClassification model).\n",
      "Some weights of ViTModel were not initialized from the model checkpoint at google/vit-base-patch16-224 and are newly initialized: ['vit.pooler.dense.bias', 'vit.pooler.dense.weight']\n",
      "You should probably TRAIN this model on a down-stream task to be able to use it for predictions and inference.\n"
     ]
    },
    {
     "name": "stdout",
     "output_type": "stream",
     "text": [
      "The baseline ViT model has 86389248 parameters.\n"
     ]
    }
   ],
   "source": [
    "ViTBase = ViTModel.from_pretrained('google/vit-base-patch16-224')\n",
    "ViTBase.cuda()\n",
    "\n",
    "x = 0\n",
    "for param in ViTBase.parameters():\n",
    "  if param.requires_grad == True:\n",
    "    x += param.numel()\n",
    "\n",
    "baseline_num_params = x\n",
    "print(\"The baseline ViT model has\", baseline_num_params, \"parameters.\")"
   ]
  },
  {
   "cell_type": "markdown",
   "metadata": {
    "id": "YWsAhyFjrMpf"
   },
   "source": [
    "##Baseline performance evaluation"
   ]
  },
  {
   "cell_type": "code",
   "execution_count": null,
   "metadata": {
    "colab": {
     "base_uri": "https://localhost:8080/",
     "height": 376
    },
    "id": "f8135CJsrFh7",
    "outputId": "5c3f96ae-0d9b-4876-8cf8-37cb9e25f3c6"
   },
   "outputs": [
    {
     "name": "stderr",
     "output_type": "stream",
     "text": [
      "/usr/local/lib/python3.8/dist-packages/torch/utils/data/_utils/collate.py:172: UserWarning: The given NumPy array is not writable, and PyTorch does not support non-writable tensors. This means writing to this tensor will result in undefined behavior. You may want to copy the array to protect its data or make it writable before converting it to a tensor. This type of warning will be suppressed for the rest of this program. (Triggered internally at ../torch/csrc/utils/tensor_numpy.cpp:199.)\n",
      "  return collate([torch.as_tensor(b) for b in batch], collate_fn_map=collate_fn_map)\n"
     ]
    },
    {
     "name": "stdout",
     "output_type": "stream",
     "text": [
      "Baseline accuracy: tensor(0.5392)\n",
      "Confusion matrix:\n"
     ]
    },
    {
     "data": {
      "text/plain": [
       "<matplotlib.colorbar.Colorbar at 0x7f44e4775c70>"
      ]
     },
     "execution_count": 9,
     "metadata": {},
     "output_type": "execute_result"
    },
    {
     "data": {
      "image/png": "[encoded data removed]",
      "text/plain": [
       "<Figure size 432x288 with 2 Axes>"
      ]
     },
     "metadata": {
      "needs_background": "light"
     },
     "output_type": "display_data"
    }
   ],
   "source": [
    "batch_size = 4\n",
    "dl_eval = get_dataloader_eval(batch_size)\n",
    "\n",
    "accuracy, match_matrix = get_eval_performance(dl_eval, batch_size, ViTBase)\n",
    "print(\"Baseline accuracy:\", accuracy.mean())\n",
    "print(\"Confusion matrix:\")\n",
    "plt.imshow(match_matrix)\n",
    "plt.colorbar()"
   ]
  },
  {
   "cell_type": "markdown",
   "metadata": {
    "id": "o0SEvc5petfi"
   },
   "source": [
    "## Baseline augmented with Adapter system\n",
    "\n",
    "To improve the baseline result, I wrote an Adapter class which implements the simple bottleneck method introduced in [this paper](https://arxiv.org/abs/1902.00751)."
   ]
  },
  {
   "cell_type": "code",
   "execution_count": null,
   "metadata": {
    "id": "sKYWNHdqt5pX"
   },
   "outputs": [],
   "source": [
    "class Adapter(nn.Module):\n",
    "    def __init__(self, adapter_config: dict):\n",
    "        super(Adapter, self).__init__()\n",
    "        self.down_project = nn.Linear(adapter_config[\"hidden_size\"], adapter_config[\"bottleneck_dim\"])\n",
    "        self.activation = adapter_config[\"activation\"]()\n",
    "        self.up_project = nn.Linear(adapter_config[\"bottleneck_dim\"], adapter_config[\"hidden_size\"])\n",
    "        self._init_params()\n",
    "\n",
    "    def _init_params(self):\n",
    "        \"\"\"Ayush: The parameters need to be initialized near zero to implement an approximate identity function\"\"\"\n",
    "        for param in self.down_project.parameters():\n",
    "            # torch.nn.init.constant_(param, 0.)\n",
    "            torch.nn.init.normal_(param, 0., 1e-5)\n",
    "        for param in self.up_project.parameters():\n",
    "            # torch.nn.init.constant_(param, 0.)\n",
    "            torch.nn.init.normal_(param, 0., 1e-5)\n",
    "\n",
    "    def forward(self, hidden_states):\n",
    "        # hidden_states = (B, T, D)\n",
    "        outputs = self.down_project(hidden_states)\n",
    "        outputs = self.activation(outputs)\n",
    "        outputs = self.up_project(outputs)\n",
    "\n",
    "        adapter_outputs = outputs + hidden_states\n",
    "        return adapter_outputs"
   ]
  },
  {
   "cell_type": "markdown",
   "metadata": {
    "id": "BHwUgm9it60u"
   },
   "source": [
    "The **Adapter** class created above is then incorporated in a new class **ViTWithAdapterOutput**. This new class is basically a reproduction of the 'transformers' library class ViTOutput but with the **adapter layer** incorporated in it."
   ]
  },
  {
   "cell_type": "code",
   "execution_count": null,
   "metadata": {
    "id": "VtYF-wmDu-jv"
   },
   "outputs": [],
   "source": [
    "class ViTWithAdapterOutput(nn.Module):\n",
    "    \"\"\"Ayush:\n",
    "    Receives an instance of the original ViTOutput class (from transformers library) to reuse its pretrained layers.\n",
    "    Uses an Adapter object to implement the modified ViTWithAdapter layer.\n",
    "    \"\"\"\n",
    "    def __init__(self, ViTBaseOutput: nn.Module, adapter_config: dict) -> None:\n",
    "        super().__init__()\n",
    "        self.ViTBaseOutput = ViTBaseOutput\n",
    "        self.dense = ViTBaseOutput.dense\n",
    "        self.dropout = ViTBaseOutput.dropout\n",
    "        self.adapter = Adapter(adapter_config)\n",
    "\n",
    "    def forward(self, hidden_states: torch.Tensor, input_tensor: torch.Tensor) -> torch.Tensor:\n",
    "        hidden_states = self.dense(hidden_states)\n",
    "        hidden_states = self.dropout(hidden_states)\n",
    "\n",
    "        #Ayush: Second adapter of the ViTWithAdapter layer implemented here (see below)\n",
    "        hidden_states = self.adapter(hidden_states)\n",
    "\n",
    "        hidden_states = hidden_states + input_tensor\n",
    "\n",
    "        return hidden_states"
   ]
  },
  {
   "cell_type": "markdown",
   "metadata": {
    "id": "UKBFDYWzvBWh"
   },
   "source": [
    "The **ViTWithAdapterOutput** class created above is used in this new class **ViTWithAdapterLayer**. Again, this new class is basically a reproduction of the 'transformers' library class **ViTLayer** but with a new **output** attribute and a new **adapter** object."
   ]
  },
  {
   "cell_type": "code",
   "execution_count": null,
   "metadata": {
    "id": "BrVWYJZdwxe4"
   },
   "outputs": [],
   "source": [
    "class ViTWithAdapterLayer(nn.Module):\n",
    "    \"\"\"Ayush:\n",
    "    Receives an instance of the original ViTLayer class (from transformers library) to reuse its pretrained layers.\n",
    "    Uses an Adapter object to implement the modified ViTWithAdapter layer.\n",
    "    \"\"\"\n",
    "    def __init__(self, ViTBaseLayer: nn.Module, adapter_config: dict) -> None:\n",
    "        super().__init__()\n",
    "        #Ayush: Reuse of pretrained layers from ViTLayer class\n",
    "        self.ViTBaseLayer = ViTBaseLayer\n",
    "        self.chunk_size_feed_forward = ViTBaseLayer.chunk_size_feed_forward\n",
    "        self.seq_len_dim = 1\n",
    "        self.attention = ViTBaseLayer.attention\n",
    "        self.intermediate = ViTBaseLayer.intermediate\n",
    "        self.layernorm_before = ViTBaseLayer.layernorm_before\n",
    "        self.layernorm_after = ViTBaseLayer.layernorm_after\n",
    "        \n",
    "        #Ayush: Changes the output attribute to use the previous class\n",
    "        self.output = ViTWithAdapterOutput(ViTBaseLayer.output, adapter_config)\n",
    "        \n",
    "        #Ayush: Introduces a new adapter attribute\n",
    "        self.adapter = Adapter(adapter_config)\n",
    "\n",
    "    def forward(\n",
    "        self,\n",
    "        hidden_states: torch.Tensor,\n",
    "        head_mask: Optional[torch.Tensor] = None,\n",
    "        output_attentions: bool = False,\n",
    "    ) -> Union[Tuple[torch.Tensor, torch.Tensor], Tuple[torch.Tensor]]:\n",
    "        self_attention_outputs = self.attention(\n",
    "            self.layernorm_before(hidden_states),  # in ViT, layernorm is applied before self-attention\n",
    "            head_mask,\n",
    "            output_attentions=output_attentions,\n",
    "        )\n",
    "        attention_output = self_attention_outputs[0]\n",
    "        outputs = self_attention_outputs[1:]  # add self attentions if we output attention weights\n",
    "\n",
    "        #Ayush: First adapter of the ViTWithAdapter layer implemented here\n",
    "        adapter_output = self.adapter(attention_output)\n",
    "\n",
    "        # first residual connection\n",
    "        hidden_states = adapter_output + hidden_states\n",
    "\n",
    "        # in ViT, layernorm is also applied after self-attention\n",
    "        layer_output = self.layernorm_after(hidden_states)\n",
    "        layer_output = self.intermediate(layer_output)\n",
    "\n",
    "        # second residual connection is done here\n",
    "        layer_output = self.output(layer_output, hidden_states)\n",
    "\n",
    "        outputs = (layer_output,) + outputs\n",
    "\n",
    "        return outputs"
   ]
  },
  {
   "cell_type": "markdown",
   "metadata": {
    "id": "6klE6y7axBdW"
   },
   "source": [
    "A new **ViTWithAdapterEncoder** class is created inspired from **ViTEncoder** which uses **ViTWithAdapterLayer** layers (created above) in place of **ViTLayer** layers."
   ]
  },
  {
   "cell_type": "code",
   "execution_count": null,
   "metadata": {
    "id": "5jNtWs6ExAwR"
   },
   "outputs": [],
   "source": [
    "class ViTWithAdapterEncoder(nn.Module):\n",
    "    \"\"\"Ayush:\n",
    "    Receives an instance of the original ViTEncoder class (from transformers library) to reuse its pretrained layers.\n",
    "    The layers of this encoder are created using ViTWithAdapterLayer objects.\n",
    "    \"\"\"\n",
    "    def __init__(self, ViTBaseEncoder: nn.Module, adapter_config: dict) -> None:\n",
    "        super().__init__()\n",
    "        self.ViTBaseEncoder = ViTBaseEncoder\n",
    "        \n",
    "        #Change is done here\n",
    "        self.layer = nn.ModuleList([ViTWithAdapterLayer(layer, adapter_config) for layer in ViTBaseEncoder.layer])\n",
    "        \n",
    "        self.gradient_checkpointing = False\n",
    "\n",
    "    def forward(\n",
    "        self,\n",
    "        hidden_states: torch.Tensor,\n",
    "        head_mask: Optional[torch.Tensor] = None,\n",
    "        output_attentions: bool = False,\n",
    "        output_hidden_states: bool = False,\n",
    "        return_dict: bool = True,\n",
    "    ) -> Union[tuple, BaseModelOutput]:\n",
    "        all_hidden_states = () if output_hidden_states else None\n",
    "        all_self_attentions = () if output_attentions else None\n",
    "\n",
    "        for i, layer_module in enumerate(self.layer):\n",
    "            if output_hidden_states:\n",
    "                all_hidden_states = all_hidden_states + (hidden_states,)\n",
    "\n",
    "            layer_head_mask = head_mask[i] if head_mask is not None else None\n",
    "\n",
    "            if self.gradient_checkpointing and self.training:\n",
    "\n",
    "                def create_custom_forward(module):\n",
    "                    def custom_forward(*inputs):\n",
    "                        return module(*inputs, output_attentions)\n",
    "\n",
    "                    return custom_forward\n",
    "\n",
    "                layer_outputs = torch.utils.checkpoint.checkpoint(\n",
    "                    create_custom_forward(layer_module),\n",
    "                    hidden_states,\n",
    "                    layer_head_mask,\n",
    "                )\n",
    "            else:\n",
    "                layer_outputs = layer_module(hidden_states, layer_head_mask, output_attentions)\n",
    "\n",
    "            hidden_states = layer_outputs[0]\n",
    "\n",
    "            if output_attentions:\n",
    "                all_self_attentions = all_self_attentions + (layer_outputs[1],)\n",
    "\n",
    "        if output_hidden_states:\n",
    "            all_hidden_states = all_hidden_states + (hidden_states,)\n",
    "\n",
    "        if not return_dict:\n",
    "            return tuple(v for v in [hidden_states, all_hidden_states, all_self_attentions] if v is not None)\n",
    "        return BaseModelOutput(\n",
    "            last_hidden_state=hidden_states,\n",
    "            hidden_states=all_hidden_states,\n",
    "            attentions=all_self_attentions,\n",
    "        )"
   ]
  },
  {
   "cell_type": "markdown",
   "metadata": {
    "id": "OHQ1MmVVxkXG"
   },
   "source": [
    "##Final ViTWithAdapterModel\n",
    "\n",
    "Finally the **ViTWithAdapterModel** class below replaces the original **ViTModel** class, by reusing most of its implementation but changing the encoder to **ViTWithAdapterEncoder**."
   ]
  },
  {
   "cell_type": "code",
   "execution_count": null,
   "metadata": {
    "id": "h5AHVOJWF_Yn"
   },
   "outputs": [],
   "source": [
    "class ViTWithAdapterModel(nn.Module):\n",
    "    def __init__(self, ViTBase: ViTPreTrainedModel, adapter_config: dict):\n",
    "        super(ViTWithAdapterModel, self).__init__()\n",
    "        self.ViTBase = ViTBase\n",
    "        self.adapter_config = adapter_config\n",
    "        self.encoder = ViTWithAdapterEncoder(ViTBase.encoder, adapter_config)\n",
    "    def forward(\n",
    "        self,\n",
    "        pixel_values: Optional[torch.Tensor] = None,\n",
    "        bool_masked_pos: Optional[torch.BoolTensor] = None,\n",
    "        head_mask: Optional[torch.Tensor] = None,\n",
    "        output_attentions: Optional[bool] = None,\n",
    "        output_hidden_states: Optional[bool] = None,\n",
    "        interpolate_pos_encoding: Optional[bool] = None,\n",
    "        return_dict: Optional[bool] = None,\n",
    "    ):\n",
    "        output_attentions = output_attentions if output_attentions is not None else self.ViTBase.config.output_attentions\n",
    "        output_hidden_states = (\n",
    "            output_hidden_states if output_hidden_states is not None else self.ViTBase.config.output_hidden_states\n",
    "        )\n",
    "        return_dict = return_dict if return_dict is not None else self.ViTBase.config.use_return_dict\n",
    "\n",
    "        if pixel_values is None:\n",
    "            raise ValueError(\"You have to specify pixel_values\")\n",
    "\n",
    "        # Prepare head mask if needed\n",
    "        # 1.0 in head_mask indicate we keep the head\n",
    "        # attention_probs has shape bsz x n_heads x N x N\n",
    "        # input head_mask has shape [num_heads] or [num_hidden_layers x num_heads]\n",
    "        # and head_mask is converted to shape [num_hidden_layers x batch x num_heads x seq_length x seq_length]\n",
    "        head_mask = self.ViTBase.get_head_mask(head_mask, self.ViTBase.config.num_hidden_layers)\n",
    "\n",
    "        embedding_output = self.ViTBase.embeddings(\n",
    "            pixel_values, bool_masked_pos=bool_masked_pos, interpolate_pos_encoding=interpolate_pos_encoding\n",
    "        )\n",
    "\n",
    "        encoder_outputs = self.encoder(\n",
    "            embedding_output,\n",
    "            head_mask=head_mask,\n",
    "            output_attentions=output_attentions,\n",
    "            output_hidden_states=output_hidden_states,\n",
    "            return_dict=return_dict,\n",
    "        )\n",
    "\n",
    "        sequence_output = encoder_outputs[0]\n",
    "        sequence_output = self.ViTBase.layernorm(sequence_output)\n",
    "        pooled_output = self.ViTBase.pooler(sequence_output) if self.ViTBase.pooler is not None else None\n",
    "\n",
    "        if not return_dict:\n",
    "            head_outputs = (sequence_output, pooled_output) if pooled_output is not None else (sequence_output,)\n",
    "            return head_outputs + encoder_outputs[1:]\n",
    "\n",
    "        return BaseModelOutputWithPooling(\n",
    "            last_hidden_state=sequence_output,\n",
    "            pooler_output=pooled_output,\n",
    "            hidden_states=encoder_outputs.hidden_states,\n",
    "            attentions=encoder_outputs.attentions,\n",
    "        )"
   ]
  },
  {
   "cell_type": "markdown",
   "metadata": {
    "id": "XC8Xhz7dfQgG"
   },
   "source": [
    "##Prepare for training"
   ]
  },
  {
   "cell_type": "code",
   "execution_count": null,
   "metadata": {
    "id": "2B2P9k0_Ur9W"
   },
   "outputs": [],
   "source": [
    "#Training params\n",
    "epochs = 3\n",
    "batch_size = 64\n",
    "lr = 3e-4\n",
    "test_batch_size = 4\n",
    "\n",
    "#Training dataset and testing dataset\n",
    "import os\n",
    "dl_train = get_dataloader_train(batch_size, num_workers=os.cpu_count())\n",
    "dl_eval = get_dataloader_eval(test_batch_size)\n",
    "\n",
    "#Model preparation\n",
    "\n",
    "#All baseline parameters are frozen to be sure.\n",
    "for param in ViTBase.parameters():\n",
    "    if param.requires_grad:\n",
    "        param.requires_grad = False\n",
    "\n",
    "#The adapter configuration is chosen.\n",
    "adapter_config = dict()\n",
    "adapter_config[\"hidden_size\"] = ViTBase.config.hidden_size\n",
    "adapter_config[\"bottleneck_dim\"] = 64\n",
    "adapter_config[\"activation\"] = nn.GELU\n",
    "\n",
    "#Final model creation\n",
    "model = ViTWithAdapterModel(ViTBase, adapter_config)\n",
    "model.cuda()\n",
    "model.train()\n",
    "\n",
    "#Optimizer, Scheduler and loss selection\n",
    "optimizer = torch.optim.Adam(model.parameters(), lr=lr)\n",
    "# scheduler = torch.optim.lr_scheduler.OneCycleLR(optimizer, max_lr=lr, steps_per_epoch=384, epochs=epochs, pct_start=0.1, anneal_strategy='linear', div_factor=10, final_div_factor=100)\n",
    "loss_fn = nn.CosineEmbeddingLoss()"
   ]
  },
  {
   "cell_type": "markdown",
   "metadata": {
    "id": "3a63kxfnfTGT"
   },
   "source": [
    "##Training loop"
   ]
  },
  {
   "cell_type": "code",
   "execution_count": null,
   "metadata": {
    "id": "T8kLHoQDUx9p"
   },
   "outputs": [],
   "source": [
    "step = 0\n",
    "for epoch in range(epochs):\n",
    "    for i, d in enumerate(dl_train):\n",
    "        optimizer.zero_grad()\n",
    "        img_l = torch.unbind(d[0])  # B, 3, 360, 360\n",
    "        inputs_l = feature_extractor(images=img_l, return_tensors=\"pt\")\n",
    "        inputs_l = inputs_l[\"pixel_values\"].cuda() # B, 197, 224\n",
    "\n",
    "        img_r = torch.unbind(d[1])  # B, 3, 360, 360\n",
    "        inputs_r = feature_extractor(images=img_r, return_tensors=\"pt\")\n",
    "        inputs_r = inputs_r[\"pixel_values\"].cuda() # B, 197, 224\n",
    "\n",
    "        outputs_l = model(inputs_l)\n",
    "        outputs_r = model(inputs_r)\n",
    "\n",
    "        loss = loss_fn(outputs_l.pooler_output, outputs_r.pooler_output, torch.tensor([1]).cuda())\n",
    "        loss.backward()\n",
    "        optimizer.step()\n",
    "        # scheduler.step()\n",
    "        step+=1\n",
    "        if step%50 == 0:\n",
    "            accuracy, match_matrix = get_eval_performance(dl_eval, test_batch_size, model)\n",
    "            print(f\"Model accuracy at step {step} is:\", accuracy.mean())\n",
    "            model.train()\n",
    "          \n",
    "    accuracy, match_matrix = get_eval_performance(dl_eval, test_batch_size, model)\n",
    "    print(f\"Model accuracy after epoch {epoch} is:\", accuracy.mean())\n",
    "    model.train()\n",
    "    "
   ]
  },
  {
   "cell_type": "markdown",
   "metadata": {
    "id": "on2-wPeFzI7A"
   },
   "source": [
    "##Final performance evaluation"
   ]
  },
  {
   "cell_type": "code",
   "execution_count": null,
   "metadata": {
    "id": "RES88yJKGFw4"
   },
   "outputs": [],
   "source": [
    "accuracy, match_matrix = get_eval_performance(dl_eval, test_batch_size, model)\n",
    "print(f\"Final model accuracy after {epoch} epochs is:\", accuracy.mean())\n",
    "plt.imshow(match_matrix)\n",
    "plt.colorbar()\n"
   ]
  },
  {
   "cell_type": "markdown",
   "metadata": {
    "id": "uXRMpFdjzW3P"
   },
   "source": [
    "##Parameter overload over the baseline model"
   ]
  },
  {
   "cell_type": "code",
   "execution_count": null,
   "metadata": {
    "colab": {
     "base_uri": "https://localhost:8080/"
    },
    "id": "beuXjR-udu2S",
    "outputId": "545e18ce-8e0b-4439-9a29-27bce22f4d39"
   },
   "outputs": [
    {
     "name": "stdout",
     "output_type": "stream",
     "text": [
      "The new model introduces 2379264 more parameters over the baseline model = 2.754120512774923% more params\n"
     ]
    }
   ],
   "source": [
    "x = 0\n",
    "for param in model.parameters():\n",
    "  if param.requires_grad == True:\n",
    "    x += param.numel()\n",
    "\n",
    "print(f\"The new model introduces {x} more parameters over the baseline model = {(x/baseline_num_params)*100}% more params\")"
   ]
  }
 ],
 "metadata": {
  "accelerator": "GPU",
  "colab": {
   "machine_shape": "hm",
   "provenance": []
  },
  "gpuClass": "premium",
  "kernelspec": {
   "display_name": "Python 3",
   "language": "python",
   "name": "python3"
  },
  "language_info": {
   "codemirror_mode": {
    "name": "ipython",
    "version": 3
   },
   "file_extension": ".py",
   "mimetype": "text/x-python",
   "name": "python",
   "nbconvert_exporter": "python",
   "pygments_lexer": "ipython3",
   "version": "3.10.4"
  },
  "widgets": {
   "application/vnd.jupyter.widget-state+json": {
    "0d769b4b85624f5d8cea0449e6832016": {
     "model_module": "@jupyter-widgets/controls",
     "model_module_version": "1.5.0",
     "model_name": "DescriptionStyleModel",
     "state": {
      "_model_module": "@jupyter-widgets/controls",
      "_model_module_version": "1.5.0",
      "_model_name": "DescriptionStyleModel",
      "_view_count": null,
      "_view_module": "@jupyter-widgets/base",
      "_view_module_version": "1.2.0",
      "_view_name": "StyleView",
      "description_width": ""
     }
    },
    "1064566415b04953970d5dbc50eead4b": {
     "model_module": "@jupyter-widgets/controls",
     "model_module_version": "1.5.0",
     "model_name": "HTMLModel",
     "state": {
      "_dom_classes": [],
      "_model_module": "@jupyter-widgets/controls",
      "_model_module_version": "1.5.0",
      "_model_name": "HTMLModel",
      "_view_count": null,
      "_view_module": "@jupyter-widgets/controls",
      "_view_module_version": "1.5.0",
      "_view_name": "HTMLView",
      "description": "",
      "description_tooltip": null,
      "layout": "IPY_MODEL_fcf0aaa3dc4e4b68a55bdc378d79b7e2",
      "placeholder": "​",
      "style": "IPY_MODEL_927ca28e9f6e4ff8b8afa19c41a08622",
      "value": " 69.7k/69.7k [00:00&lt;00:00, 193kB/s]"
     }
    },
    "14683b35d11045d7aa76ab7703c6f88d": {
     "model_module": "@jupyter-widgets/controls",
     "model_module_version": "1.5.0",
     "model_name": "HTMLModel",
     "state": {
      "_dom_classes": [],
      "_model_module": "@jupyter-widgets/controls",
      "_model_module_version": "1.5.0",
      "_model_name": "HTMLModel",
      "_view_count": null,
      "_view_module": "@jupyter-widgets/controls",
      "_view_module_version": "1.5.0",
      "_view_name": "HTMLView",
      "description": "",
      "description_tooltip": null,
      "layout": "IPY_MODEL_509fa93d427f41cd8d8ea89f11c42550",
      "placeholder": "​",
      "style": "IPY_MODEL_4d245aaa35504b97a6c6ecbfa4e4a7fa",
      "value": " 346M/346M [00:04&lt;00:00, 83.4MB/s]"
     }
    },
    "1ed74623c5884664a39d5257cb4fe9bb": {
     "model_module": "@jupyter-widgets/controls",
     "model_module_version": "1.5.0",
     "model_name": "HTMLModel",
     "state": {
      "_dom_classes": [],
      "_model_module": "@jupyter-widgets/controls",
      "_model_module_version": "1.5.0",
      "_model_name": "HTMLModel",
      "_view_count": null,
      "_view_module": "@jupyter-widgets/controls",
      "_view_module_version": "1.5.0",
      "_view_name": "HTMLView",
      "description": "",
      "description_tooltip": null,
      "layout": "IPY_MODEL_8277212eae164bff8a5c671ed78480fc",
      "placeholder": "​",
      "style": "IPY_MODEL_0d769b4b85624f5d8cea0449e6832016",
      "value": "Downloading: 100%"
     }
    },
    "1eea982ecbcf46cd9f7c7b117d53aa37": {
     "model_module": "@jupyter-widgets/base",
     "model_module_version": "1.2.0",
     "model_name": "LayoutModel",
     "state": {
      "_model_module": "@jupyter-widgets/base",
      "_model_module_version": "1.2.0",
      "_model_name": "LayoutModel",
      "_view_count": null,
      "_view_module": "@jupyter-widgets/base",
      "_view_module_version": "1.2.0",
      "_view_name": "LayoutView",
      "align_content": null,
      "align_items": null,
      "align_self": null,
      "border": null,
      "bottom": null,
      "display": null,
      "flex": null,
      "flex_flow": null,
      "grid_area": null,
      "grid_auto_columns": null,
      "grid_auto_flow": null,
      "grid_auto_rows": null,
      "grid_column": null,
      "grid_gap": null,
      "grid_row": null,
      "grid_template_areas": null,
      "grid_template_columns": null,
      "grid_template_rows": null,
      "height": null,
      "justify_content": null,
      "justify_items": null,
      "left": null,
      "margin": null,
      "max_height": null,
      "max_width": null,
      "min_height": null,
      "min_width": null,
      "object_fit": null,
      "object_position": null,
      "order": null,
      "overflow": null,
      "overflow_x": null,
      "overflow_y": null,
      "padding": null,
      "right": null,
      "top": null,
      "visibility": null,
      "width": null
     }
    },
    "29f17f17b4064e3aae9cac0a51d4475e": {
     "model_module": "@jupyter-widgets/base",
     "model_module_version": "1.2.0",
     "model_name": "LayoutModel",
     "state": {
      "_model_module": "@jupyter-widgets/base",
      "_model_module_version": "1.2.0",
      "_model_name": "LayoutModel",
      "_view_count": null,
      "_view_module": "@jupyter-widgets/base",
      "_view_module_version": "1.2.0",
      "_view_name": "LayoutView",
      "align_content": null,
      "align_items": null,
      "align_self": null,
      "border": null,
      "bottom": null,
      "display": null,
      "flex": null,
      "flex_flow": null,
      "grid_area": null,
      "grid_auto_columns": null,
      "grid_auto_flow": null,
      "grid_auto_rows": null,
      "grid_column": null,
      "grid_gap": null,
      "grid_row": null,
      "grid_template_areas": null,
      "grid_template_columns": null,
      "grid_template_rows": null,
      "height": null,
      "justify_content": null,
      "justify_items": null,
      "left": null,
      "margin": null,
      "max_height": null,
      "max_width": null,
      "min_height": null,
      "min_width": null,
      "object_fit": null,
      "object_position": null,
      "order": null,
      "overflow": null,
      "overflow_x": null,
      "overflow_y": null,
      "padding": null,
      "right": null,
      "top": null,
      "visibility": null,
      "width": null
     }
    },
    "2b2b4e48fed242b9a15e142da393e8ca": {
     "model_module": "@jupyter-widgets/controls",
     "model_module_version": "1.5.0",
     "model_name": "ProgressStyleModel",
     "state": {
      "_model_module": "@jupyter-widgets/controls",
      "_model_module_version": "1.5.0",
      "_model_name": "ProgressStyleModel",
      "_view_count": null,
      "_view_module": "@jupyter-widgets/base",
      "_view_module_version": "1.2.0",
      "_view_name": "StyleView",
      "bar_color": null,
      "description_width": ""
     }
    },
    "2eaa3efaeb0e48cd858ad78889251c4c": {
     "model_module": "@jupyter-widgets/controls",
     "model_module_version": "1.5.0",
     "model_name": "HTMLModel",
     "state": {
      "_dom_classes": [],
      "_model_module": "@jupyter-widgets/controls",
      "_model_module_version": "1.5.0",
      "_model_name": "HTMLModel",
      "_view_count": null,
      "_view_module": "@jupyter-widgets/controls",
      "_view_module_version": "1.5.0",
      "_view_name": "HTMLView",
      "description": "",
      "description_tooltip": null,
      "layout": "IPY_MODEL_b6c487c0829243e3a9a97cd8d9063bd5",
      "placeholder": "​",
      "style": "IPY_MODEL_49524c39b674455e8711563a562b5bfc",
      "value": "Downloading: 100%"
     }
    },
    "32a25e4af2874dad83cb3dbf40a2a138": {
     "model_module": "@jupyter-widgets/controls",
     "model_module_version": "1.5.0",
     "model_name": "ProgressStyleModel",
     "state": {
      "_model_module": "@jupyter-widgets/controls",
      "_model_module_version": "1.5.0",
      "_model_name": "ProgressStyleModel",
      "_view_count": null,
      "_view_module": "@jupyter-widgets/base",
      "_view_module_version": "1.2.0",
      "_view_name": "StyleView",
      "bar_color": null,
      "description_width": ""
     }
    },
    "3d1389ae692144cf9677dfe3c94923a6": {
     "model_module": "@jupyter-widgets/controls",
     "model_module_version": "1.5.0",
     "model_name": "HTMLModel",
     "state": {
      "_dom_classes": [],
      "_model_module": "@jupyter-widgets/controls",
      "_model_module_version": "1.5.0",
      "_model_name": "HTMLModel",
      "_view_count": null,
      "_view_module": "@jupyter-widgets/controls",
      "_view_module_version": "1.5.0",
      "_view_name": "HTMLView",
      "description": "",
      "description_tooltip": null,
      "layout": "IPY_MODEL_ac23e1a03abc40cab8d1fadc8bc69b04",
      "placeholder": "​",
      "style": "IPY_MODEL_b4f01c57075443d1b81cc2afd7259a83",
      "value": "Downloading: 100%"
     }
    },
    "49524c39b674455e8711563a562b5bfc": {
     "model_module": "@jupyter-widgets/controls",
     "model_module_version": "1.5.0",
     "model_name": "DescriptionStyleModel",
     "state": {
      "_model_module": "@jupyter-widgets/controls",
      "_model_module_version": "1.5.0",
      "_model_name": "DescriptionStyleModel",
      "_view_count": null,
      "_view_module": "@jupyter-widgets/base",
      "_view_module_version": "1.2.0",
      "_view_name": "StyleView",
      "description_width": ""
     }
    },
    "4be695b8477e480b81e029393113d73e": {
     "model_module": "@jupyter-widgets/controls",
     "model_module_version": "1.5.0",
     "model_name": "FloatProgressModel",
     "state": {
      "_dom_classes": [],
      "_model_module": "@jupyter-widgets/controls",
      "_model_module_version": "1.5.0",
      "_model_name": "FloatProgressModel",
      "_view_count": null,
      "_view_module": "@jupyter-widgets/controls",
      "_view_module_version": "1.5.0",
      "_view_name": "ProgressView",
      "bar_style": "success",
      "description": "",
      "description_tooltip": null,
      "layout": "IPY_MODEL_a82dfa91994d46bb8779a02a6929e96c",
      "max": 69665,
      "min": 0,
      "orientation": "horizontal",
      "style": "IPY_MODEL_2b2b4e48fed242b9a15e142da393e8ca",
      "value": 69665
     }
    },
    "4d245aaa35504b97a6c6ecbfa4e4a7fa": {
     "model_module": "@jupyter-widgets/controls",
     "model_module_version": "1.5.0",
     "model_name": "DescriptionStyleModel",
     "state": {
      "_model_module": "@jupyter-widgets/controls",
      "_model_module_version": "1.5.0",
      "_model_name": "DescriptionStyleModel",
      "_view_count": null,
      "_view_module": "@jupyter-widgets/base",
      "_view_module_version": "1.2.0",
      "_view_name": "StyleView",
      "description_width": ""
     }
    },
    "509fa93d427f41cd8d8ea89f11c42550": {
     "model_module": "@jupyter-widgets/base",
     "model_module_version": "1.2.0",
     "model_name": "LayoutModel",
     "state": {
      "_model_module": "@jupyter-widgets/base",
      "_model_module_version": "1.2.0",
      "_model_name": "LayoutModel",
      "_view_count": null,
      "_view_module": "@jupyter-widgets/base",
      "_view_module_version": "1.2.0",
      "_view_name": "LayoutView",
      "align_content": null,
      "align_items": null,
      "align_self": null,
      "border": null,
      "bottom": null,
      "display": null,
      "flex": null,
      "flex_flow": null,
      "grid_area": null,
      "grid_auto_columns": null,
      "grid_auto_flow": null,
      "grid_auto_rows": null,
      "grid_column": null,
      "grid_gap": null,
      "grid_row": null,
      "grid_template_areas": null,
      "grid_template_columns": null,
      "grid_template_rows": null,
      "height": null,
      "justify_content": null,
      "justify_items": null,
      "left": null,
      "margin": null,
      "max_height": null,
      "max_width": null,
      "min_height": null,
      "min_width": null,
      "object_fit": null,
      "object_position": null,
      "order": null,
      "overflow": null,
      "overflow_x": null,
      "overflow_y": null,
      "padding": null,
      "right": null,
      "top": null,
      "visibility": null,
      "width": null
     }
    },
    "740bb0e99b6145fd8d3b00c2dc7fdbda": {
     "model_module": "@jupyter-widgets/controls",
     "model_module_version": "1.5.0",
     "model_name": "DescriptionStyleModel",
     "state": {
      "_model_module": "@jupyter-widgets/controls",
      "_model_module_version": "1.5.0",
      "_model_name": "DescriptionStyleModel",
      "_view_count": null,
      "_view_module": "@jupyter-widgets/base",
      "_view_module_version": "1.2.0",
      "_view_name": "StyleView",
      "description_width": ""
     }
    },
    "8277212eae164bff8a5c671ed78480fc": {
     "model_module": "@jupyter-widgets/base",
     "model_module_version": "1.2.0",
     "model_name": "LayoutModel",
     "state": {
      "_model_module": "@jupyter-widgets/base",
      "_model_module_version": "1.2.0",
      "_model_name": "LayoutModel",
      "_view_count": null,
      "_view_module": "@jupyter-widgets/base",
      "_view_module_version": "1.2.0",
      "_view_name": "LayoutView",
      "align_content": null,
      "align_items": null,
      "align_self": null,
      "border": null,
      "bottom": null,
      "display": null,
      "flex": null,
      "flex_flow": null,
      "grid_area": null,
      "grid_auto_columns": null,
      "grid_auto_flow": null,
      "grid_auto_rows": null,
      "grid_column": null,
      "grid_gap": null,
      "grid_row": null,
      "grid_template_areas": null,
      "grid_template_columns": null,
      "grid_template_rows": null,
      "height": null,
      "justify_content": null,
      "justify_items": null,
      "left": null,
      "margin": null,
      "max_height": null,
      "max_width": null,
      "min_height": null,
      "min_width": null,
      "object_fit": null,
      "object_position": null,
      "order": null,
      "overflow": null,
      "overflow_x": null,
      "overflow_y": null,
      "padding": null,
      "right": null,
      "top": null,
      "visibility": null,
      "width": null
     }
    },
    "8fa88cd01ad94b9fa1be9a0966bc2dfc": {
     "model_module": "@jupyter-widgets/base",
     "model_module_version": "1.2.0",
     "model_name": "LayoutModel",
     "state": {
      "_model_module": "@jupyter-widgets/base",
      "_model_module_version": "1.2.0",
      "_model_name": "LayoutModel",
      "_view_count": null,
      "_view_module": "@jupyter-widgets/base",
      "_view_module_version": "1.2.0",
      "_view_name": "LayoutView",
      "align_content": null,
      "align_items": null,
      "align_self": null,
      "border": null,
      "bottom": null,
      "display": null,
      "flex": null,
      "flex_flow": null,
      "grid_area": null,
      "grid_auto_columns": null,
      "grid_auto_flow": null,
      "grid_auto_rows": null,
      "grid_column": null,
      "grid_gap": null,
      "grid_row": null,
      "grid_template_areas": null,
      "grid_template_columns": null,
      "grid_template_rows": null,
      "height": null,
      "justify_content": null,
      "justify_items": null,
      "left": null,
      "margin": null,
      "max_height": null,
      "max_width": null,
      "min_height": null,
      "min_width": null,
      "object_fit": null,
      "object_position": null,
      "order": null,
      "overflow": null,
      "overflow_x": null,
      "overflow_y": null,
      "padding": null,
      "right": null,
      "top": null,
      "visibility": null,
      "width": null
     }
    },
    "91940544ffda4120a542ca521de995f3": {
     "model_module": "@jupyter-widgets/base",
     "model_module_version": "1.2.0",
     "model_name": "LayoutModel",
     "state": {
      "_model_module": "@jupyter-widgets/base",
      "_model_module_version": "1.2.0",
      "_model_name": "LayoutModel",
      "_view_count": null,
      "_view_module": "@jupyter-widgets/base",
      "_view_module_version": "1.2.0",
      "_view_name": "LayoutView",
      "align_content": null,
      "align_items": null,
      "align_self": null,
      "border": null,
      "bottom": null,
      "display": null,
      "flex": null,
      "flex_flow": null,
      "grid_area": null,
      "grid_auto_columns": null,
      "grid_auto_flow": null,
      "grid_auto_rows": null,
      "grid_column": null,
      "grid_gap": null,
      "grid_row": null,
      "grid_template_areas": null,
      "grid_template_columns": null,
      "grid_template_rows": null,
      "height": null,
      "justify_content": null,
      "justify_items": null,
      "left": null,
      "margin": null,
      "max_height": null,
      "max_width": null,
      "min_height": null,
      "min_width": null,
      "object_fit": null,
      "object_position": null,
      "order": null,
      "overflow": null,
      "overflow_x": null,
      "overflow_y": null,
      "padding": null,
      "right": null,
      "top": null,
      "visibility": null,
      "width": null
     }
    },
    "927ca28e9f6e4ff8b8afa19c41a08622": {
     "model_module": "@jupyter-widgets/controls",
     "model_module_version": "1.5.0",
     "model_name": "DescriptionStyleModel",
     "state": {
      "_model_module": "@jupyter-widgets/controls",
      "_model_module_version": "1.5.0",
      "_model_name": "DescriptionStyleModel",
      "_view_count": null,
      "_view_module": "@jupyter-widgets/base",
      "_view_module_version": "1.2.0",
      "_view_name": "StyleView",
      "description_width": ""
     }
    },
    "947c551cbfd644aa8c26a4fd4fb08957": {
     "model_module": "@jupyter-widgets/controls",
     "model_module_version": "1.5.0",
     "model_name": "HBoxModel",
     "state": {
      "_dom_classes": [],
      "_model_module": "@jupyter-widgets/controls",
      "_model_module_version": "1.5.0",
      "_model_name": "HBoxModel",
      "_view_count": null,
      "_view_module": "@jupyter-widgets/controls",
      "_view_module_version": "1.5.0",
      "_view_name": "HBoxView",
      "box_style": "",
      "children": [
       "IPY_MODEL_1ed74623c5884664a39d5257cb4fe9bb",
       "IPY_MODEL_4be695b8477e480b81e029393113d73e",
       "IPY_MODEL_1064566415b04953970d5dbc50eead4b"
      ],
      "layout": "IPY_MODEL_8fa88cd01ad94b9fa1be9a0966bc2dfc"
     }
    },
    "a33193e32cc64024b470d75bfc2f18d1": {
     "model_module": "@jupyter-widgets/controls",
     "model_module_version": "1.5.0",
     "model_name": "FloatProgressModel",
     "state": {
      "_dom_classes": [],
      "_model_module": "@jupyter-widgets/controls",
      "_model_module_version": "1.5.0",
      "_model_name": "FloatProgressModel",
      "_view_count": null,
      "_view_module": "@jupyter-widgets/controls",
      "_view_module_version": "1.5.0",
      "_view_name": "ProgressView",
      "bar_style": "success",
      "description": "",
      "description_tooltip": null,
      "layout": "IPY_MODEL_ae958594600d4374baaed9977e7f8b17",
      "max": 160,
      "min": 0,
      "orientation": "horizontal",
      "style": "IPY_MODEL_32a25e4af2874dad83cb3dbf40a2a138",
      "value": 160
     }
    },
    "a43d6fb33b66425693d109f51d2a34d6": {
     "model_module": "@jupyter-widgets/controls",
     "model_module_version": "1.5.0",
     "model_name": "HBoxModel",
     "state": {
      "_dom_classes": [],
      "_model_module": "@jupyter-widgets/controls",
      "_model_module_version": "1.5.0",
      "_model_name": "HBoxModel",
      "_view_count": null,
      "_view_module": "@jupyter-widgets/controls",
      "_view_module_version": "1.5.0",
      "_view_name": "HBoxView",
      "box_style": "",
      "children": [
       "IPY_MODEL_3d1389ae692144cf9677dfe3c94923a6",
       "IPY_MODEL_a33193e32cc64024b470d75bfc2f18d1",
       "IPY_MODEL_b5b478809d3f4cfb842d43066e0534b7"
      ],
      "layout": "IPY_MODEL_91940544ffda4120a542ca521de995f3"
     }
    },
    "a82dfa91994d46bb8779a02a6929e96c": {
     "model_module": "@jupyter-widgets/base",
     "model_module_version": "1.2.0",
     "model_name": "LayoutModel",
     "state": {
      "_model_module": "@jupyter-widgets/base",
      "_model_module_version": "1.2.0",
      "_model_name": "LayoutModel",
      "_view_count": null,
      "_view_module": "@jupyter-widgets/base",
      "_view_module_version": "1.2.0",
      "_view_name": "LayoutView",
      "align_content": null,
      "align_items": null,
      "align_self": null,
      "border": null,
      "bottom": null,
      "display": null,
      "flex": null,
      "flex_flow": null,
      "grid_area": null,
      "grid_auto_columns": null,
      "grid_auto_flow": null,
      "grid_auto_rows": null,
      "grid_column": null,
      "grid_gap": null,
      "grid_row": null,
      "grid_template_areas": null,
      "grid_template_columns": null,
      "grid_template_rows": null,
      "height": null,
      "justify_content": null,
      "justify_items": null,
      "left": null,
      "margin": null,
      "max_height": null,
      "max_width": null,
      "min_height": null,
      "min_width": null,
      "object_fit": null,
      "object_position": null,
      "order": null,
      "overflow": null,
      "overflow_x": null,
      "overflow_y": null,
      "padding": null,
      "right": null,
      "top": null,
      "visibility": null,
      "width": null
     }
    },
    "aae5bf9fed494c0ab2b55337787ad2d9": {
     "model_module": "@jupyter-widgets/controls",
     "model_module_version": "1.5.0",
     "model_name": "ProgressStyleModel",
     "state": {
      "_model_module": "@jupyter-widgets/controls",
      "_model_module_version": "1.5.0",
      "_model_name": "ProgressStyleModel",
      "_view_count": null,
      "_view_module": "@jupyter-widgets/base",
      "_view_module_version": "1.2.0",
      "_view_name": "StyleView",
      "bar_color": null,
      "description_width": ""
     }
    },
    "ac23e1a03abc40cab8d1fadc8bc69b04": {
     "model_module": "@jupyter-widgets/base",
     "model_module_version": "1.2.0",
     "model_name": "LayoutModel",
     "state": {
      "_model_module": "@jupyter-widgets/base",
      "_model_module_version": "1.2.0",
      "_model_name": "LayoutModel",
      "_view_count": null,
      "_view_module": "@jupyter-widgets/base",
      "_view_module_version": "1.2.0",
      "_view_name": "LayoutView",
      "align_content": null,
      "align_items": null,
      "align_self": null,
      "border": null,
      "bottom": null,
      "display": null,
      "flex": null,
      "flex_flow": null,
      "grid_area": null,
      "grid_auto_columns": null,
      "grid_auto_flow": null,
      "grid_auto_rows": null,
      "grid_column": null,
      "grid_gap": null,
      "grid_row": null,
      "grid_template_areas": null,
      "grid_template_columns": null,
      "grid_template_rows": null,
      "height": null,
      "justify_content": null,
      "justify_items": null,
      "left": null,
      "margin": null,
      "max_height": null,
      "max_width": null,
      "min_height": null,
      "min_width": null,
      "object_fit": null,
      "object_position": null,
      "order": null,
      "overflow": null,
      "overflow_x": null,
      "overflow_y": null,
      "padding": null,
      "right": null,
      "top": null,
      "visibility": null,
      "width": null
     }
    },
    "ae958594600d4374baaed9977e7f8b17": {
     "model_module": "@jupyter-widgets/base",
     "model_module_version": "1.2.0",
     "model_name": "LayoutModel",
     "state": {
      "_model_module": "@jupyter-widgets/base",
      "_model_module_version": "1.2.0",
      "_model_name": "LayoutModel",
      "_view_count": null,
      "_view_module": "@jupyter-widgets/base",
      "_view_module_version": "1.2.0",
      "_view_name": "LayoutView",
      "align_content": null,
      "align_items": null,
      "align_self": null,
      "border": null,
      "bottom": null,
      "display": null,
      "flex": null,
      "flex_flow": null,
      "grid_area": null,
      "grid_auto_columns": null,
      "grid_auto_flow": null,
      "grid_auto_rows": null,
      "grid_column": null,
      "grid_gap": null,
      "grid_row": null,
      "grid_template_areas": null,
      "grid_template_columns": null,
      "grid_template_rows": null,
      "height": null,
      "justify_content": null,
      "justify_items": null,
      "left": null,
      "margin": null,
      "max_height": null,
      "max_width": null,
      "min_height": null,
      "min_width": null,
      "object_fit": null,
      "object_position": null,
      "order": null,
      "overflow": null,
      "overflow_x": null,
      "overflow_y": null,
      "padding": null,
      "right": null,
      "top": null,
      "visibility": null,
      "width": null
     }
    },
    "b4f01c57075443d1b81cc2afd7259a83": {
     "model_module": "@jupyter-widgets/controls",
     "model_module_version": "1.5.0",
     "model_name": "DescriptionStyleModel",
     "state": {
      "_model_module": "@jupyter-widgets/controls",
      "_model_module_version": "1.5.0",
      "_model_name": "DescriptionStyleModel",
      "_view_count": null,
      "_view_module": "@jupyter-widgets/base",
      "_view_module_version": "1.2.0",
      "_view_name": "StyleView",
      "description_width": ""
     }
    },
    "b5b478809d3f4cfb842d43066e0534b7": {
     "model_module": "@jupyter-widgets/controls",
     "model_module_version": "1.5.0",
     "model_name": "HTMLModel",
     "state": {
      "_dom_classes": [],
      "_model_module": "@jupyter-widgets/controls",
      "_model_module_version": "1.5.0",
      "_model_name": "HTMLModel",
      "_view_count": null,
      "_view_module": "@jupyter-widgets/controls",
      "_view_module_version": "1.5.0",
      "_view_name": "HTMLView",
      "description": "",
      "description_tooltip": null,
      "layout": "IPY_MODEL_29f17f17b4064e3aae9cac0a51d4475e",
      "placeholder": "​",
      "style": "IPY_MODEL_740bb0e99b6145fd8d3b00c2dc7fdbda",
      "value": " 160/160 [00:00&lt;00:00, 6.30kB/s]"
     }
    },
    "b6c487c0829243e3a9a97cd8d9063bd5": {
     "model_module": "@jupyter-widgets/base",
     "model_module_version": "1.2.0",
     "model_name": "LayoutModel",
     "state": {
      "_model_module": "@jupyter-widgets/base",
      "_model_module_version": "1.2.0",
      "_model_name": "LayoutModel",
      "_view_count": null,
      "_view_module": "@jupyter-widgets/base",
      "_view_module_version": "1.2.0",
      "_view_name": "LayoutView",
      "align_content": null,
      "align_items": null,
      "align_self": null,
      "border": null,
      "bottom": null,
      "display": null,
      "flex": null,
      "flex_flow": null,
      "grid_area": null,
      "grid_auto_columns": null,
      "grid_auto_flow": null,
      "grid_auto_rows": null,
      "grid_column": null,
      "grid_gap": null,
      "grid_row": null,
      "grid_template_areas": null,
      "grid_template_columns": null,
      "grid_template_rows": null,
      "height": null,
      "justify_content": null,
      "justify_items": null,
      "left": null,
      "margin": null,
      "max_height": null,
      "max_width": null,
      "min_height": null,
      "min_width": null,
      "object_fit": null,
      "object_position": null,
      "order": null,
      "overflow": null,
      "overflow_x": null,
      "overflow_y": null,
      "padding": null,
      "right": null,
      "top": null,
      "visibility": null,
      "width": null
     }
    },
    "c32e8f1272494945ae441c4dde68e4f4": {
     "model_module": "@jupyter-widgets/controls",
     "model_module_version": "1.5.0",
     "model_name": "HBoxModel",
     "state": {
      "_dom_classes": [],
      "_model_module": "@jupyter-widgets/controls",
      "_model_module_version": "1.5.0",
      "_model_name": "HBoxModel",
      "_view_count": null,
      "_view_module": "@jupyter-widgets/controls",
      "_view_module_version": "1.5.0",
      "_view_name": "HBoxView",
      "box_style": "",
      "children": [
       "IPY_MODEL_2eaa3efaeb0e48cd858ad78889251c4c",
       "IPY_MODEL_f3292c76ec0447c9890614803d145770",
       "IPY_MODEL_14683b35d11045d7aa76ab7703c6f88d"
      ],
      "layout": "IPY_MODEL_d0712373362b41f588f3642036f38621"
     }
    },
    "d0712373362b41f588f3642036f38621": {
     "model_module": "@jupyter-widgets/base",
     "model_module_version": "1.2.0",
     "model_name": "LayoutModel",
     "state": {
      "_model_module": "@jupyter-widgets/base",
      "_model_module_version": "1.2.0",
      "_model_name": "LayoutModel",
      "_view_count": null,
      "_view_module": "@jupyter-widgets/base",
      "_view_module_version": "1.2.0",
      "_view_name": "LayoutView",
      "align_content": null,
      "align_items": null,
      "align_self": null,
      "border": null,
      "bottom": null,
      "display": null,
      "flex": null,
      "flex_flow": null,
      "grid_area": null,
      "grid_auto_columns": null,
      "grid_auto_flow": null,
      "grid_auto_rows": null,
      "grid_column": null,
      "grid_gap": null,
      "grid_row": null,
      "grid_template_areas": null,
      "grid_template_columns": null,
      "grid_template_rows": null,
      "height": null,
      "justify_content": null,
      "justify_items": null,
      "left": null,
      "margin": null,
      "max_height": null,
      "max_width": null,
      "min_height": null,
      "min_width": null,
      "object_fit": null,
      "object_position": null,
      "order": null,
      "overflow": null,
      "overflow_x": null,
      "overflow_y": null,
      "padding": null,
      "right": null,
      "top": null,
      "visibility": null,
      "width": null
     }
    },
    "f3292c76ec0447c9890614803d145770": {
     "model_module": "@jupyter-widgets/controls",
     "model_module_version": "1.5.0",
     "model_name": "FloatProgressModel",
     "state": {
      "_dom_classes": [],
      "_model_module": "@jupyter-widgets/controls",
      "_model_module_version": "1.5.0",
      "_model_name": "FloatProgressModel",
      "_view_count": null,
      "_view_module": "@jupyter-widgets/controls",
      "_view_module_version": "1.5.0",
      "_view_name": "ProgressView",
      "bar_style": "success",
      "description": "",
      "description_tooltip": null,
      "layout": "IPY_MODEL_1eea982ecbcf46cd9f7c7b117d53aa37",
      "max": 346351599,
      "min": 0,
      "orientation": "horizontal",
      "style": "IPY_MODEL_aae5bf9fed494c0ab2b55337787ad2d9",
      "value": 346351599
     }
    },
    "fcf0aaa3dc4e4b68a55bdc378d79b7e2": {
     "model_module": "@jupyter-widgets/base",
     "model_module_version": "1.2.0",
     "model_name": "LayoutModel",
     "state": {
      "_model_module": "@jupyter-widgets/base",
      "_model_module_version": "1.2.0",
      "_model_name": "LayoutModel",
      "_view_count": null,
      "_view_module": "@jupyter-widgets/base",
      "_view_module_version": "1.2.0",
      "_view_name": "LayoutView",
      "align_content": null,
      "align_items": null,
      "align_self": null,
      "border": null,
      "bottom": null,
      "display": null,
      "flex": null,
      "flex_flow": null,
      "grid_area": null,
      "grid_auto_columns": null,
      "grid_auto_flow": null,
      "grid_auto_rows": null,
      "grid_column": null,
      "grid_gap": null,
      "grid_row": null,
      "grid_template_areas": null,
      "grid_template_columns": null,
      "grid_template_rows": null,
      "height": null,
      "justify_content": null,
      "justify_items": null,
      "left": null,
      "margin": null,
      "max_height": null,
      "max_width": null,
      "min_height": null,
      "min_width": null,
      "object_fit": null,
      "object_position": null,
      "order": null,
      "overflow": null,
      "overflow_x": null,
      "overflow_y": null,
      "padding": null,
      "right": null,
      "top": null,
      "visibility": null,
      "width": null
     }
    }
   }
  }
 },
 "nbformat": 4,
 "nbformat_minor": 1
}
