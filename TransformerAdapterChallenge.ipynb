{
 "cells": [
  {
   "cell_type": "markdown",
   "id": "940228d9",
   "metadata": {
    "id": "5yIjeAZQo3rS"
   },
   "source": [
    "# Adapters for Transformer -- CV Edition\n",
    "## Setup"
   ]
  },
  {
   "cell_type": "code",
   "execution_count": null,
   "id": "0ec5698c",
   "metadata": {},
   "outputs": [],
   "source": [
    "!pip install torchvision==0.14\n",
    "!pip install matplotlib\n",
    "!pip install \"squirrel-core[torch]\"\n",
    "!pip install \"squirrel-datasets-core[torchvision]\"\n",
    "\n",
    "!pip install transformers"
   ]
  },
  {
   "cell_type": "markdown",
   "id": "67612f8f",
   "metadata": {},
   "source": [
    "### Download evaluation dataset"
   ]
  },
  {
   "cell_type": "markdown",
   "id": "a4bc5f0f",
   "metadata": {},
   "source": [
    "Download the dataset from \n",
    "\n",
    "https://drive.google.com/drive/folders/1bMct3K76RTjycmkmMr8RPw8axRKqz2JD?usp=share_link\n",
    "\n",
    "and unzip into the working directory (`./squirrel_middleburry_patched`)"
   ]
  },
  {
   "cell_type": "markdown",
   "id": "3f1c259a",
   "metadata": {
    "jp-MarkdownHeadingCollapsed": true,
    "tags": []
   },
   "source": [
    "### Download training dataset\n",
    "Download the Sintel dataset from\n",
    "\n",
    "http://files.is.tue.mpg.de/jwulff/sintel/MPI-Sintel-stereo-training-20150305.zip\n",
    "\n",
    "and unzip into the working directory (`./Sintel`).\n",
    "The folder name must match exactly, as the dataloader will only match this way."
   ]
  },
  {
   "cell_type": "markdown",
   "id": "855495ad",
   "metadata": {},
   "source": [
    "## Code"
   ]
  },
  {
   "cell_type": "code",
   "execution_count": 2,
   "id": "b8cb3412",
   "metadata": {
    "id": "8198e624"
   },
   "outputs": [
    {
     "name": "stderr",
     "output_type": "stream",
     "text": [
      "Matplotlib is building the font cache; this may take a moment.\n"
     ]
    }
   ],
   "source": [
    "import torch\n",
    "import torch.utils.data as tud\n",
    "from torch.utils.data._utils.collate import default_collate as torch_default_collate\n",
    "\n",
    "import torchvision.transforms as tr\n",
    "\n",
    "import matplotlib.pyplot as plt\n",
    "\n",
    "from squirrel.driver import MessagepackDriver\n",
    "from squirrel_datasets_core.driver import TorchvisionDriver"
   ]
  },
  {
   "cell_type": "markdown",
   "id": "459ffd3f",
   "metadata": {},
   "source": [
    "### Prepare dataloaders"
   ]
  },
  {
   "cell_type": "code",
   "execution_count": 3,
   "id": "f8499600",
   "metadata": {},
   "outputs": [],
   "source": [
    "def get_dataloader_eval(batch_size: int) -> tud.DataLoader:\n",
    "    \"\"\"Dataloader to load evaluation/test dataset.\"\"\"\n",
    "    \n",
    "    url = \"./squirrel_middlebury_patched\"  # path to unzipped data folder containing *.gz files\n",
    "    # Get iterator from driver\n",
    "    driver = MessagepackDriver(url)\n",
    "    it = driver.get_iter()\n",
    "    \n",
    "    #############################\n",
    "    ## YOUR PREPROCESSING HERE ##\n",
    "    preprocess = tr.Compose([\n",
    "        lambda x: x\n",
    "    ])\n",
    "    #############################\n",
    "\n",
    "    dataset = (\n",
    "        it\n",
    "        .map(preprocess)\n",
    "        .batched(batch_size, torch_default_collate, drop_last_if_not_full=False)\n",
    "        .to_torch_iterable()\n",
    "    )\n",
    "    return tud.DataLoader(dataset, shuffle=None, batch_size=None)"
   ]
  },
  {
   "cell_type": "code",
   "execution_count": 4,
   "id": "faef484f",
   "metadata": {},
   "outputs": [],
   "source": [
    "def get_dataloader_train(batch_size: int, shuffe_size: int = 100, num_workers:int = 0) -> tud.DataLoader:\n",
    "    \"\"\"Dataloader to Sintel training data.\"\"\"\n",
    "    # Path to folder containing the `Sintel` folder previously donwloaded.\n",
    "    url = \"./\"\n",
    "    \n",
    "    driver = TorchvisionDriver(\"SintelStereo\", url=url)\n",
    "    it = driver.get_iter()\n",
    "   \n",
    "    dataset = (\n",
    "        it\n",
    "        .shuffle(shuffe_size)\n",
    "        .split_by_worker_pytorch()\n",
    "        #############################################################\n",
    "        ### YOUR PREPROCESSING, COLLATING, AUGMENTATION, ETC. HERE ##\n",
    "        #############################################################\n",
    "        .batched(batch_size, torch_default_collate, drop_last_if_not_full=True)\n",
    "        .to_torch_iterable()\n",
    "    )\n",
    "    return tud.DataLoader(dataset, shuffle=None, batch_size=None, num_workers=num_workers)"
   ]
  },
  {
   "cell_type": "markdown",
   "id": "bcb6f5e4",
   "metadata": {},
   "source": [
    "### Sanity-check data loaders"
   ]
  },
  {
   "cell_type": "code",
   "execution_count": 11,
   "id": "98d4b490",
   "metadata": {},
   "outputs": [],
   "source": [
    "batch_size = 32\n",
    "dl_eval = get_dataloader_eval(batch_size)"
   ]
  },
  {
   "cell_type": "code",
   "execution_count": 12,
   "id": "390be3d6",
   "metadata": {},
   "outputs": [],
   "source": [
    "for i, d in enumerate(dl_eval):\n",
    "\n",
    "    img_l = d[\"img_l\"][0]\n",
    "    img_r = d[\"img_r\"][0]\n",
    "\n",
    "    fig, ax = plt.subplots(1, 2, sharex=True, sharey=True)\n",
    "    ax[0].imshow(img_l.permute(1, 2, 0).numpy())\n",
    "    ax[1].imshow(img_r.permute(1, 2, 0).numpy())\n",
    "    ax[0].set_title(f\"{img_l.shape}, {img_l.dtype}, {img_l.min()}, {img_l.max()}\")\n",
    "    fig.tight_layout()\n",
    "    \n",
    "    if i == 2:\n",
    "        break"
   ]
  },
  {
   "cell_type": "markdown",
   "id": "e703f80d",
   "metadata": {},
   "source": [
    "## Your Code"
   ]
  },
  {
   "cell_type": "markdown",
   "id": "385c4879",
   "metadata": {},
   "source": [
    "### Baseline Evaluation"
   ]
  },
  {
   "cell_type": "markdown",
   "id": "fd4c0bbb",
   "metadata": {},
   "source": [
    "### Adapter Fine Tuning"
   ]
  }
 ],
 "metadata": {
  "accelerator": "GPU",
  "colab": {
   "collapsed_sections": [],
   "name": "TransformerAdapterChallenge_solution",
   "provenance": []
  },
  "gpuClass": "standard",
  "kernelspec": {
   "display_name": "Python 3",
   "language": "python",
   "name": "python3"
  },
  "language_info": {
   "codemirror_mode": {
    "name": "ipython",
    "version": 3
   },
   "file_extension": ".py",
   "mimetype": "text/x-python",
   "name": "python",
   "nbconvert_exporter": "python",
   "pygments_lexer": "ipython3",
   "version": "3.10.4"
  }
 },
 "nbformat": 4,
 "nbformat_minor": 5
}
